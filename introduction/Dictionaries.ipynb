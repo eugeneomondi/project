{
 "cells": [
  {
   "cell_type": "code",
   "execution_count": null,
   "id": "099093f3-9cb6-41b1-8814-e3c2f35ce882",
   "metadata": {},
   "outputs": [],
   "source": [
    "#dictionary- data type that stores data using key values pairs\n",
    "* Use curly brackets {} to define dictionaries in python\n",
    "{key : value}"
   ]
  },
  {
   "cell_type": "code",
   "execution_count": 7,
   "id": "56ab9002-530f-4af9-a22d-0eaf750fd1f8",
   "metadata": {
    "tags": []
   },
   "outputs": [
    {
     "name": "stdout",
     "output_type": "stream",
     "text": [
      "{'name': 'Eugene Omondi', 'pj no': 80751, 'gender': 'male'}\n"
     ]
    }
   ],
   "source": [
    "student = {\n",
    "    \"name\" : \"Eugene Omondi\",\n",
    "    \"pj no\" : 80751,\n",
    "    \"gender\" : \"male\"\n",
    "}\n",
    "print(student)"
   ]
  },
  {
   "cell_type": "code",
   "execution_count": 10,
   "id": "51092d8e-d38a-42bc-9924-4c8620538c7b",
   "metadata": {
    "tags": []
   },
   "outputs": [
    {
     "name": "stdout",
     "output_type": "stream",
     "text": [
      "{'sky team': ['Eugene', 'Lumumba', 'Kirui'], 'friends of sky': ['Martin', 'Chemu'], 'kitchen cabinet': ['Kocheli', 'Steve']}\n"
     ]
    }
   ],
   "source": [
    "office = {\n",
    "    \"sky team\" : [\"Eugene\",\"Lumumba\",\"Kirui\"],\n",
    "    \"friends of sky\" : [\"Martin\",\"Chemu\"],\n",
    "    \"kitchen cabinet\" : [\"Kocheli\", \"Steve\"]\n",
    "}\n",
    "print(office)"
   ]
  },
  {
   "cell_type": "code",
   "execution_count": 11,
   "id": "5c593c62-231e-4035-a05a-b1e479368f82",
   "metadata": {
    "tags": []
   },
   "outputs": [
    {
     "data": {
      "text/plain": [
       "dict_keys(['sky team', 'friends of sky', 'kitchen cabinet'])"
      ]
     },
     "execution_count": 11,
     "metadata": {},
     "output_type": "execute_result"
    }
   ],
   "source": [
    "# keys of the dictionaries\n",
    "office.keys()"
   ]
  },
  {
   "cell_type": "code",
   "execution_count": 16,
   "id": "b3033e03-5860-4577-a4dc-1340ec4792d7",
   "metadata": {
    "tags": []
   },
   "outputs": [
    {
     "name": "stdout",
     "output_type": "stream",
     "text": [
      "['Eugene', 'Lumumba', 'Kirui']\n"
     ]
    }
   ],
   "source": [
    "#access key values in a dictionary using keys\n",
    "#syntax dictionary_name(key)\n",
    "\n",
    "office[\"friends of sky\"]\n",
    "print(office[\"sky team\"])"
   ]
  },
  {
   "cell_type": "code",
   "execution_count": 27,
   "id": "d55388ec-4f4e-4d65-abf0-c0f1cd03d648",
   "metadata": {
    "tags": []
   },
   "outputs": [
    {
     "name": "stdout",
     "output_type": "stream",
     "text": [
      "['Eugene', 'Lumumba', 'Kirui', 'Nyambane']\n"
     ]
    }
   ],
   "source": [
    "#remember lists append\n",
    "office[\"sky team\"].append(\"Nyambane\")\n",
    "print(office[\"sky team\"])"
   ]
  },
  {
   "cell_type": "code",
   "execution_count": 34,
   "id": "c8d760bc-1b04-4368-b89e-d040ed9f2c0a",
   "metadata": {
    "tags": []
   },
   "outputs": [
    {
     "name": "stdout",
     "output_type": "stream",
     "text": [
      "Eugene\n"
     ]
    }
   ],
   "source": [
    "print(office[\"sky team\"][0])"
   ]
  },
  {
   "cell_type": "code",
   "execution_count": 52,
   "id": "026c224b-2c0d-48ac-9308-5951cf551121",
   "metadata": {
    "tags": []
   },
   "outputs": [],
   "source": [
    "# cafe\n",
    "menu={\n",
    "    \"breakfast\" : {\n",
    "        \"tea\" : [\"masala\",\"ginger\",\"cardamon\"],\n",
    "        \"coffee\" : [\"hot chocolate\",\"lactose free\"],\n",
    "    },\n",
    "    \"accompaniment\" : {\n",
    "        \"wings\" : [\"hot wings\",\"spicy\",\"mild\"],\n",
    "        \"kienyeji\" : [\"nduma\",\"nguashe\",\"muhogo\"],\n",
    "    },\n",
    "    \"lunch\" : {\n",
    "        \"proteins\" : [\"chicken\",\"fish\",\"beef\"],\n",
    "        \"vegs\" : [\"sukuma\",\"mrenda\"],\n",
    "    }\n",
    "}\n",
    "    \n",
    "\n",
    "        "
   ]
  },
  {
   "cell_type": "code",
   "execution_count": 54,
   "id": "255206b7-5ffe-4d1d-a1b8-35fb1ca323c6",
   "metadata": {
    "tags": []
   },
   "outputs": [
    {
     "name": "stdout",
     "output_type": "stream",
     "text": [
      "{'tea': ['masala', 'ginger', 'cardamon'], 'coffee': ['hot chocolate', 'lactose free']}\n"
     ]
    }
   ],
   "source": [
    "print(menu[\"breakfast\"])"
   ]
  },
  {
   "cell_type": "code",
   "execution_count": 56,
   "id": "18ea73df-a2c4-4077-bc63-7635628e0783",
   "metadata": {
    "tags": []
   },
   "outputs": [
    {
     "data": {
      "text/plain": [
       "dict"
      ]
     },
     "execution_count": 56,
     "metadata": {},
     "output_type": "execute_result"
    }
   ],
   "source": [
    "#type of menu breaksfast\n",
    "type (menu[\"breakfast\"])"
   ]
  },
  {
   "cell_type": "code",
   "execution_count": 57,
   "id": "7ddd0250-0c94-416a-b7b4-c51acc281074",
   "metadata": {
    "tags": []
   },
   "outputs": [
    {
     "data": {
      "text/plain": [
       "dict_keys(['tea', 'coffee'])"
      ]
     },
     "execution_count": 57,
     "metadata": {},
     "output_type": "execute_result"
    }
   ],
   "source": [
    "menu[\"breakfast\"].keys()"
   ]
  },
  {
   "cell_type": "code",
   "execution_count": 58,
   "id": "11daa011-83be-4784-8af3-9d2914b2ab41",
   "metadata": {
    "tags": []
   },
   "outputs": [
    {
     "data": {
      "text/plain": [
       "dict_keys(['wings', 'kienyeji'])"
      ]
     },
     "execution_count": 58,
     "metadata": {},
     "output_type": "execute_result"
    }
   ],
   "source": [
    "menu[\"accompaniment\"].keys()"
   ]
  },
  {
   "cell_type": "code",
   "execution_count": 59,
   "id": "5010dfd9-c570-4a50-b40f-0328953b29ed",
   "metadata": {
    "tags": []
   },
   "outputs": [
    {
     "name": "stdout",
     "output_type": "stream",
     "text": [
      "['masala', 'ginger', 'cardamon']\n"
     ]
    }
   ],
   "source": [
    "print(menu[\"breakfast\"][\"tea\"])"
   ]
  },
  {
   "cell_type": "code",
   "execution_count": 61,
   "id": "09be70e5-4a8d-47d6-8e72-2075ee9165b0",
   "metadata": {
    "tags": []
   },
   "outputs": [
    {
     "name": "stdout",
     "output_type": "stream",
     "text": [
      "masala\n"
     ]
    }
   ],
   "source": [
    "print (menu[\"breakfast\"][\"tea\"][0])"
   ]
  },
  {
   "cell_type": "code",
   "execution_count": 77,
   "id": "600c6767-b68c-40f9-a37f-4fdfd22f3882",
   "metadata": {
    "tags": []
   },
   "outputs": [
    {
     "name": "stdout",
     "output_type": "stream",
     "text": [
      "Eugene had the following for breaksfast:\n",
      "\t* masala\n"
     ]
    }
   ],
   "source": [
    "print(f'Eugene had the following for breaksfast:\\n\\t* {menu[\"breakfast\"][\"tea\"][0]}')"
   ]
  },
  {
   "cell_type": "code",
   "execution_count": null,
   "id": "a3ade859-6748-42e3-98e3-58794c75a87c",
   "metadata": {},
   "outputs": [],
   "source": []
  }
 ],
 "metadata": {
  "kernelspec": {
   "display_name": "Python 3 (ipykernel)",
   "language": "python",
   "name": "python3"
  },
  "language_info": {
   "codemirror_mode": {
    "name": "ipython",
    "version": 3
   },
   "file_extension": ".py",
   "mimetype": "text/x-python",
   "name": "python",
   "nbconvert_exporter": "python",
   "pygments_lexer": "ipython3",
   "version": "3.11.3"
  }
 },
 "nbformat": 4,
 "nbformat_minor": 5
}
