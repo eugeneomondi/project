{
 "cells": [
  {
   "cell_type": "code",
   "execution_count": 7,
   "id": "61a28adf-7bde-449f-851d-a330b070abfd",
   "metadata": {},
   "outputs": [
    {
     "name": "stdout",
     "output_type": "stream",
     "text": [
      "['Mango', 'Paw Paw', 'Oranges', 'Guava']\n"
     ]
    }
   ],
   "source": [
    "#list is a collection of items in a particular order\n",
    "fruits= [\"Mango\",\"Paw Paw\", \"Oranges\",\"Guava\"]\n",
    "print (fruits)"
   ]
  },
  {
   "cell_type": "code",
   "execution_count": 9,
   "id": "f4480e08-c640-42d0-afab-0aed4c1bf07d",
   "metadata": {
    "tags": []
   },
   "outputs": [
    {
     "name": "stdout",
     "output_type": "stream",
     "text": [
      "yes\n"
     ]
    }
   ],
   "source": [
    "#checking items in a list\n",
    "if \"Paw Paw\" in fruits:\n",
    "    print(\"yes\")"
   ]
  },
  {
   "cell_type": "code",
   "execution_count": 13,
   "id": "3aeb4af9-447b-4e85-a7db-cecf50b9b21e",
   "metadata": {
    "tags": []
   },
   "outputs": [
    {
     "name": "stdout",
     "output_type": "stream",
     "text": [
      "['Mango', 'Paw Paw', 'Oranges', 'Guava', 'Bananas', 'Bananas']\n"
     ]
    }
   ],
   "source": [
    "fruits.append(\"Bananas\")\n",
    "print(fruits)"
   ]
  },
  {
   "cell_type": "code",
   "execution_count": 21,
   "id": "db3c4d5c-4dda-4d0d-be72-ac3eef62f839",
   "metadata": {
    "tags": []
   },
   "outputs": [
    {
     "name": "stdout",
     "output_type": "stream",
     "text": [
      "['Mango', 'Paw Paw', 'Oranges', 'Guava', 'Bananas', 'Bananas', 'Guava', 'Passion']\n"
     ]
    }
   ],
   "source": [
    "#adding items in a list\n",
    "if \"Passion\" in fruits:\n",
    "    print(fruits)\n",
    "else:\n",
    "    fruits.append(\"Passion\")\n",
    "print(fruits)"
   ]
  },
  {
   "cell_type": "code",
   "execution_count": 23,
   "id": "0a2d79b6-3950-4274-b5c6-702b6c64ecec",
   "metadata": {
    "tags": []
   },
   "outputs": [
    {
     "name": "stdout",
     "output_type": "stream",
     "text": [
      "corrupted\n"
     ]
    }
   ],
   "source": [
    "#checking if item not in a list\n",
    "if \"watermelons\" not in fruits:\n",
    "    print(\"corrupted\")"
   ]
  },
  {
   "cell_type": "code",
   "execution_count": 30,
   "id": "24521be7-5c6a-44bd-8b11-ef4b9d2da0d2",
   "metadata": {
    "tags": []
   },
   "outputs": [
    {
     "name": "stdout",
     "output_type": "stream",
     "text": [
      "['ripe', 'Mango', 'Paw Paw', 'Oranges', 'Guava', 'Bananas', 'Bananas', 'Guava', 'Passion']\n"
     ]
    }
   ],
   "source": [
    "#checking if item not in a list\n",
    "if \"watermelons\" not in fruits:\n",
    "    fruits.insert(0,\"ripe\")\n",
    "print(fruits)"
   ]
  },
  {
   "cell_type": "code",
   "execution_count": 31,
   "id": "d07d21f1-be66-470b-a868-20e782558bf7",
   "metadata": {
    "tags": []
   },
   "outputs": [
    {
     "data": {
      "text/plain": [
       "9"
      ]
     },
     "execution_count": 31,
     "metadata": {},
     "output_type": "execute_result"
    }
   ],
   "source": [
    "#methids and functions in a list\n",
    "\n",
    "#size of a list\n",
    "\n",
    "len(fruits)"
   ]
  },
  {
   "cell_type": "code",
   "execution_count": null,
   "id": "be5c2fa5-c858-4118-8787-e5786352721f",
   "metadata": {},
   "outputs": [],
   "source": [
    "#soirt to organize\n",
    "numbers=[1,7,6,90,5,6,0]\n",
    "print(numbers.sort(ass)"
   ]
  }
 ],
 "metadata": {
  "kernelspec": {
   "display_name": "Python 3 (ipykernel)",
   "language": "python",
   "name": "python3"
  },
  "language_info": {
   "codemirror_mode": {
    "name": "ipython",
    "version": 3
   },
   "file_extension": ".py",
   "mimetype": "text/x-python",
   "name": "python",
   "nbconvert_exporter": "python",
   "pygments_lexer": "ipython3",
   "version": "3.11.3"
  }
 },
 "nbformat": 4,
 "nbformat_minor": 5
}
