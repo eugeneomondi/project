{
 "cells": [
  {
   "cell_type": "code",
   "execution_count": 2,
   "id": "4cfe3661-5bec-4cf6-8d8d-3458ab346fd2",
   "metadata": {
    "tags": []
   },
   "outputs": [
    {
     "name": "stdout",
     "output_type": "stream",
     "text": [
      "1\n",
      "2\n",
      "3\n"
     ]
    }
   ],
   "source": [
    "#loops are a key mechnism to achieve repetiotion of tasks efficiently e.g mpesa procedures of sending money\n",
    "#consider scenerios counting 1 to 10\n",
    "#repetition is used to automate tasks that require repeated execution\n",
    "print(1)\n",
    "print(2)\n",
    "print(3)\n"
   ]
  },
  {
   "cell_type": "code",
   "execution_count": 5,
   "id": "3c36d74a-a4fc-476f-8728-ad3d4aeb9262",
   "metadata": {
    "tags": []
   },
   "outputs": [
    {
     "name": "stdout",
     "output_type": "stream",
     "text": [
      "1\n",
      "2\n",
      "3\n",
      "4\n",
      "5\n",
      "6\n",
      "7\n",
      "8\n",
      "9\n",
      "10\n"
     ]
    }
   ],
   "source": [
    "#programming loops to automate repetitive tasks\n",
    "for num in range(1,11):\n",
    "    print(num)"
   ]
  },
  {
   "cell_type": "code",
   "execution_count": 9,
   "id": "b802c470-773b-4d66-bfa6-7d97fb27a946",
   "metadata": {
    "tags": []
   },
   "outputs": [
    {
     "name": "stdout",
     "output_type": "stream",
     "text": [
      "number: 0\n",
      "number: 1\n",
      "number: 2\n",
      "number: 3\n",
      "number: 4\n"
     ]
    }
   ],
   "source": [
    "#using while loops\n",
    "count=0\n",
    "\n",
    "while count<5:\n",
    "    print(\"number:\", count)\n",
    "    count +=1 #+=1 means increase by 1"
   ]
  },
  {
   "cell_type": "code",
   "execution_count": 11,
   "id": "823cdeba-29e9-4e92-a25c-a007cd0e37e9",
   "metadata": {
    "tags": []
   },
   "outputs": [
    {
     "name": "stdout",
     "output_type": "stream",
     "text": [
      "1\n",
      "2\n",
      "3\n",
      "4\n",
      "5\n",
      "6\n",
      "7\n",
      "8\n",
      "9\n"
     ]
    }
   ],
   "source": [
    "#Aloop is a prgramming construct that enabkes the repeated execution of a specific block of code\n",
    "# Loops are used when you want to automate a task that needs to be performed multiple times\n",
    "#They control the flow of the program allowing certain code too be executed repeatedly until a **condition is met**\n",
    "\n",
    "#creating a list if numbers\n",
    "numbers=[1,2,3,4,5,6,7,8,9]\n",
    "\n",
    "#create empty list\n",
    "\n",
    "even_numbers=[]\n",
    "odd_numbers=[]\n",
    "\n",
    "for num in numbers:\n",
    "    print(num)"
   ]
  },
  {
   "cell_type": "code",
   "execution_count": 47,
   "id": "26326da2-1c5e-4bb6-bbeb-a0331d22668c",
   "metadata": {
    "tags": []
   },
   "outputs": [
    {
     "name": "stdout",
     "output_type": "stream",
     "text": [
      "[2, 4, 6, 8]\n",
      "[1, 3, 5, 7, 9]\n"
     ]
    }
   ],
   "source": [
    "#adding even numbers\n",
    "even_numbers=[]\n",
    "odd_numbers=[]\n",
    "for num in numbers:\n",
    "    if (num % 2 ==0):\n",
    "        even_numbers.append(num)\n",
    "    elif(num%2==1):\n",
    "        odd_numbers.append(num)\n",
    "      \n",
    "print(even_numbers)\n",
    "print(odd_numbers)"
   ]
  },
  {
   "cell_type": "code",
   "execution_count": 45,
   "id": "d9e5659a-2190-4cf0-865f-69c349e9364a",
   "metadata": {
    "tags": []
   },
   "outputs": [
    {
     "name": "stdout",
     "output_type": "stream",
     "text": [
      "\n"
     ]
    }
   ],
   "source": [
    "#sum the numbers between 1 and 10\n",
    "\n",
    "sum = 1+2+3+4+5+6+7+8+9+10\n",
    "\n",
    "print ()"
   ]
  },
  {
   "cell_type": "code",
   "execution_count": 46,
   "id": "4563b99e-f39b-4368-89be-aa150798d2ec",
   "metadata": {
    "tags": []
   },
   "outputs": [
    {
     "name": "stdout",
     "output_type": "stream",
     "text": [
      "55\n"
     ]
    }
   ],
   "source": [
    "#use a loop to find the sum of numbers between 1 and 10\n",
    "\n",
    "#declare a variable to store the sum\n",
    "\n",
    "sum=0\n",
    "\n",
    "#creating a for loop\n",
    "for num in range(1,11): #range(1,11)>> all numbers between 1 and 11 excluding 11\n",
    "    sum += num\n",
    "print(sum)"
   ]
  },
  {
   "cell_type": "markdown",
   "id": "9be9635c-641e-4e76-8fc2-f26d74684bcf",
   "metadata": {
    "tags": []
   },
   "source": [
    "#control flow\n",
    "#loops influence the order in which instructions are executed\n",
    "#when a loop is encountered, the program enters a loop body, executing the contained code\n",
    "\n",
    "```\n",
    "loop made of a condition:\n",
    "    contained block of \n",
    "    code to be executed\n",
    "    when condition is true\n",
    "program exits the loop\n",
    "```\n",
    "#at each iteration, the program checks the loop condition. If the condition remains true, the loop body is executed again.\n",
    "#if it becomes false, the loop condition/program exits the loop\n",
    "\n"
   ]
  },
  {
   "cell_type": "code",
   "execution_count": 35,
   "id": "55ee8d01-51e8-4d3b-9d27-64738baae70d",
   "metadata": {
    "tags": []
   },
   "outputs": [
    {
     "name": "stdout",
     "output_type": "stream",
     "text": [
      "This is an example of a loop\n",
      "We are demonstrating while loops\n",
      "countdown value: 5!!\n",
      "countdown value: 4!!\n",
      "countdown value: 3!!\n",
      "countdown value: 2!!\n",
      "countdown value: 1!!\n",
      "exit loop!! and program continues\n"
     ]
    }
   ],
   "source": [
    " #example - assume the statements below are blocks of code\n",
    "print(\"This is an example of a loop\")\n",
    "print(\"We are demonstrating while loops\")\n",
    "\n",
    "#loop to simulate a count down\n",
    "countdown=5\n",
    "\n",
    "#our program meets a loop block>> while loop\n",
    "\n",
    "while (countdown>0):\n",
    "    #code to execute when condition is true\n",
    "    print(f\"countdown value: {countdown}!!\")\n",
    "    countdown -=1\n",
    "#program exits the loop when condition is no longer met\n",
    "print(\"exit loop!! and program continues\")\n"
   ]
  },
  {
   "cell_type": "markdown",
   "id": "2257b9ac-69e2-48f9-8c78-b03e576a308f",
   "metadata": {},
   "source": [
    "##types of loops- there are 2 main types of loops in python\n",
    "#...for loops... and ...while loops...\n",
    "#type of loop you choose depends on whther you know the number of iterations in advance or if it depends on a condition\n",
    "\n",
    "#when you know the number of iterations, use while loop, when you don't, use a for loop\n",
    "\n"
   ]
  },
  {
   "cell_type": "markdown",
   "id": "823d1cbf-daa7-4465-80c9-c7ff319db91f",
   "metadata": {},
   "source": [
    "###basic syntax\n",
    "\n",
    "#for signals the start of a for loop\n",
    "\n",
    "#item is a variable that represents the current item in the sequence during each iteration\n",
    "\n",
    "\"in\" is a key word used to specify that you are iterating *in* the given sequence\n",
    "\n",
    "*sequence: a collection of items that you want to iterate over e.g list, string, tuplr or range\n",
    "\n",
    "\":\" signifies the start of an indented code block that will be executed for each iteration of the loop\n",
    "\n",
    "inside the indented code block, you place the actions or operations that you want to perform on each item in the sequence. The loop will automatically iterate through the entire sequence, executing the code block for each item."
   ]
  },
  {
   "cell_type": "code",
   "execution_count": 2,
   "id": "b21a6d8d-45ba-469f-9cf4-8e4cad390986",
   "metadata": {
    "tags": []
   },
   "outputs": [
    {
     "name": "stdout",
     "output_type": "stream",
     "text": [
      "Kisumu\n",
      "Kisii\n",
      "Nyamira\n",
      "Migori\n",
      "Kitale\n"
     ]
    }
   ],
   "source": [
    "#code demonstration\n",
    "#list of high courts in Kenya\n",
    "\n",
    "high_court=['Kisumu', 'Kisii','Nyamira','Migori','Kitale']\n",
    "for court in high_court:\n",
    "    #code block to execute each item\n",
    "    print (court)\n",
    "    if (court=='Kitale'):\n",
    "        break;"
   ]
  },
  {
   "cell_type": "code",
   "execution_count": 3,
   "id": "729cf7b1-eef8-4629-a206-a0ab06c487d8",
   "metadata": {
    "tags": []
   },
   "outputs": [
    {
     "data": {
      "text/plain": [
       "False"
      ]
     },
     "execution_count": 3,
     "metadata": {},
     "output_type": "execute_result"
    }
   ],
   "source": [
    "4==5"
   ]
  },
  {
   "cell_type": "markdown",
   "id": "76087af3-9bec-435e-a31f-216daf0c369c",
   "metadata": {},
   "source": [
    "### sequence types\n",
    "#it refers to data structures that hold collection of elements, where each element is accessible  by an index or a key.\n",
    "\n",
    "*These. elements are ordered , meaning they have a specific position within the sequence"
   ]
  },
  {
   "cell_type": "code",
   "execution_count": 5,
   "id": "4f936f47-ed65-4b2e-862f-58b0be698548",
   "metadata": {
    "tags": []
   },
   "outputs": [
    {
     "name": "stdout",
     "output_type": "stream",
     "text": [
      "['Kisumu', 'Kisii', 'Nyamira', 'Migori', 'Kitale']\n",
      "Migori\n"
     ]
    }
   ],
   "source": [
    "#list\n",
    "print(high_court)\n",
    "\n",
    "#accessing items/elements in a list by index\n",
    "\n",
    "print(high_court[3])"
   ]
  },
  {
   "cell_type": "code",
   "execution_count": 14,
   "id": "95a3c6d7-64b3-4c0a-a99f-0f0248ea4b32",
   "metadata": {
    "tags": []
   },
   "outputs": [
    {
     "name": "stdout",
     "output_type": "stream",
     "text": [
      "kisumu\n",
      "kisii\n",
      "nyamira\n",
      "migori\n",
      "kitale\n"
     ]
    }
   ],
   "source": [
    "#looping through the list court\n",
    "for court in high_court:\n",
    "        #code to execute\n",
    "        \n",
    "        lower_case= court.lower()\n",
    "        print(lower_case)"
   ]
  },
  {
   "cell_type": "code",
   "execution_count": 15,
   "id": "eb802a3e-1693-4dab-9f37-3369bc841782",
   "metadata": {
    "tags": []
   },
   "outputs": [
    {
     "name": "stdout",
     "output_type": "stream",
     "text": [
      "('Kocheli', 'solo', 'nyambane')\n"
     ]
    }
   ],
   "source": [
    "#tuple\n",
    "#it is similar to list but they are imutable meaning the contents cannot be changed after creation\n",
    "#syntax tuple_name=(item1,item2,...)\n",
    "\n",
    "noise_makers=('Kocheli','solo','nyambane')\n",
    "print(noise_makers)"
   ]
  },
  {
   "cell_type": "code",
   "execution_count": 43,
   "id": "4b031111-de86-4243-9d3b-2a0ea86b9af9",
   "metadata": {
    "tags": []
   },
   "outputs": [
    {
     "name": "stdout",
     "output_type": "stream",
     "text": [
      "Kocheli\n",
      "solo\n",
      "nyambane\n"
     ]
    }
   ],
   "source": [
    "#loop through items in a tuple\n",
    "for noise_maker in noise_makers:\n",
    "    #code to be executed\n",
    "    \n",
    "    print(noise_maker)\n"
   ]
  },
  {
   "cell_type": "code",
   "execution_count": 44,
   "id": "14dfed28-e1fb-4cbd-ad51-d360e7f005da",
   "metadata": {
    "tags": []
   },
   "outputs": [
    {
     "name": "stdout",
     "output_type": "stream",
     "text": [
      "Kocheli\n"
     ]
    }
   ],
   "source": [
    "#accessing items in a tuple\n",
    "\n",
    "print(noise_makers[0])"
   ]
  },
  {
   "cell_type": "code",
   "execution_count": 1,
   "id": "86a49629-3f8e-46af-b9d6-1a55240a8bb6",
   "metadata": {},
   "outputs": [
    {
     "name": "stdout",
     "output_type": "stream",
     "text": [
      "j\n",
      "u\n",
      "d\n",
      "i\n",
      "c\n",
      "i\n",
      "a\n",
      "r\n",
      "y\n"
     ]
    }
   ],
   "source": [
    "#iterate through a string for means for character in judticiart, print judiciary\n",
    "\n",
    "word=\"judiciary\"\n",
    "\n",
    "for char in word:\n",
    "    print(char)"
   ]
  },
  {
   "cell_type": "code",
   "execution_count": 3,
   "id": "a337b829-fee0-4713-9b1e-0e8e15ef5167",
   "metadata": {
    "tags": []
   },
   "outputs": [
    {
     "name": "stdout",
     "output_type": "stream",
     "text": [
      "['j', 'u', 'd', 'i', 'c', 'i', 'a', 'r', 'y']\n"
     ]
    }
   ],
   "source": [
    "#empty list to store chars\n",
    "\n",
    "word_chars=[]\n",
    "\n",
    "for char in word:\n",
    "    word_chars.append(char)\n",
    "print(word_chars)"
   ]
  },
  {
   "cell_type": "code",
   "execution_count": 5,
   "id": "1472fbab-3cc1-4df9-8514-63079a8729e3",
   "metadata": {
    "tags": []
   },
   "outputs": [
    {
     "name": "stdout",
     "output_type": "stream",
     "text": [
      "[1, 3, 5, 7, 9]\n"
     ]
    }
   ],
   "source": [
    "#range is a sequence of numbers with a \n",
    "\n",
    "#empty list to store odd numbers\n",
    "\n",
    "odd_num=[]\n",
    "for num in range(1,10):\n",
    "    if (num%2==1):\n",
    "        odd_num.append(num)\n",
    "print(odd_num)"
   ]
  },
  {
   "cell_type": "markdown",
   "id": "7a5658db-7831-4ebb-8db7-bdd3676de5ed",
   "metadata": {},
   "source": [
    "### Loop Body \n",
    "\n",
    "Refers to the block of code that is execcuted repeatedly for each iteration of loop\n",
    "\n",
    "In programming, a loop is designed to perform repeated tasks automatically and the loop body contains the instructions that define what those actions are "
   ]
  },
  {
   "cell_type": "markdown",
   "id": "5f58c255-ebce-48be-be15-c3b53bc3884e",
   "metadata": {},
   "source": [
    "### important points to consider\n",
    "\n",
    "1. indentation- the loop bodu is indented to indicate that is the part of the loop. This means that it defines the scope of the loop body\n",
    "\n",
    "2. iteration- loop body is executed once for each itemin the sequence that contains the elements upon which the instructions and execution will be repeated\n",
    "\n",
    "3. accessing loop variable- the loop variable value can be accessed inside the loop body to perform specific actions to that value.\n",
    "\n",
    "4. manipulation-  inside the loop body, you can perform various operations on the loop variable or use it to interact with other parts of the program"
   ]
  },
  {
   "cell_type": "code",
   "execution_count": 7,
   "id": "07447b5a-30a3-4f60-864e-001703cb1eab",
   "metadata": {
    "tags": []
   },
   "outputs": [
    {
     "name": "stdout",
     "output_type": "stream",
     "text": [
      "the square of 1= 1\n",
      "the square of 2= 4\n",
      "the square of 3= 9\n",
      "the square of 4= 16\n",
      "the square of 5= 25\n"
     ]
    }
   ],
   "source": [
    "#example\n",
    "# ** is an exponent\n",
    "\n",
    "for num in range(1,6):\n",
    "    square=num ** 2\n",
    "    print(f\"the square of {num}= {square}\")"
   ]
  },
  {
   "cell_type": "markdown",
   "id": "34d0b25e-6145-46c4-b85c-9f49a54cd5cf",
   "metadata": {},
   "source": [
    "### 'range()'"
   ]
  },
  {
   "cell_type": "markdown",
   "id": "7c5d654e-a3c4-465d-a3b8-83e77bcdfa1a",
   "metadata": {},
   "source": [
    "1. range is a function commonly used when working with loops\n",
    "2. It generates a sequence of numbers within a specified range, which can be used for various purposes, e.g., iterating through a loop of certain numbers or creating a list of numbers\n",
    "3. 'range()' takes up to three arguments:\n",
    "\n",
    "\n",
    "* start(inclusive, optional)- The starting value of the sequence. If ommitted, the sequence starts from zero by default.\n",
    "\n",
    "* stop(exclusive)- this is the ending value of the sequnce. The sequence will go up to the value but not include the value in the sequnece e.g if stop is 50 and the start is zero, the sequence will be all the numbers including 0 to 49 but not 50.\n",
    "\n",
    "* step(optional) - the difference between consequtive values in the sequence. By default, the value of the step is 1.\n",
    "\n",
    "* syntax \n",
    "```range (start, stop, step)"
   ]
  },
  {
   "cell_type": "markdown",
   "id": "ceedf949-d32c-4a5d-b68d-e8553767b8af",
   "metadata": {
    "tags": []
   },
   "source": [
    "### Basic range\n",
    "\n",
    "* only using stop to generate a sequence of numbers from 0 to 10\n",
    "* Remember if you don't include start and step, python will automatically pick the numbers 0 and 1 as the default values for the stop and step"
   ]
  },
  {
   "cell_type": "code",
   "execution_count": 16,
   "id": "177befe7-501c-494d-be3d-9da42c1a4590",
   "metadata": {
    "tags": []
   },
   "outputs": [
    {
     "name": "stdout",
     "output_type": "stream",
     "text": [
      "0\n",
      "1\n",
      "2\n",
      "3\n",
      "4\n",
      "5\n",
      "6\n",
      "7\n",
      "8\n",
      "9\n",
      "10\n"
     ]
    }
   ],
   "source": [
    "# from 0 to 10\n",
    "\n",
    "for num in range(11):\n",
    "    print(num)"
   ]
  },
  {
   "cell_type": "code",
   "execution_count": 17,
   "id": "ba7de62c-7d54-4364-a2be-931beb3f600e",
   "metadata": {
    "tags": []
   },
   "outputs": [
    {
     "name": "stdout",
     "output_type": "stream",
     "text": [
      "30\n",
      "31\n",
      "32\n",
      "33\n",
      "34\n",
      "35\n",
      "36\n",
      "37\n",
      "38\n",
      "39\n"
     ]
    }
   ],
   "source": [
    "# specifying start and stop\n",
    "#generate a sequence where we specify the start of the sequnece\n",
    "\n",
    "#example: numbers between 30 and 40\n",
    "\n",
    "for num in range (30,40):\n",
    "    print(num)"
   ]
  },
  {
   "cell_type": "code",
   "execution_count": 19,
   "id": "3294b9c9-6cab-4922-bf21-c80e2a18b8c7",
   "metadata": {
    "tags": []
   },
   "outputs": [
    {
     "name": "stdout",
     "output_type": "stream",
     "text": [
      "6\n",
      "9\n",
      "12\n",
      "15\n",
      "18\n",
      "21\n",
      "24\n",
      "27\n",
      "30\n"
     ]
    }
   ],
   "source": [
    "#specifying start, stop and step\n",
    "\n",
    "#step is the difference between 2 consecutive numbers\n",
    "\n",
    "#example: all numbers divisible by 3 between 3 and 30\n",
    "\n",
    "#the example (6,31,3) means we are starting at 6 , stop at 30 and step the difference between to consecutive values\n",
    "\n",
    "for num in range(6,31,3):\n",
    "    print(num)"
   ]
  },
  {
   "cell_type": "code",
   "execution_count": 21,
   "id": "6e666dc1-925b-46dc-959a-7204f31d1930",
   "metadata": {
    "tags": []
   },
   "outputs": [
    {
     "name": "stdout",
     "output_type": "stream",
     "text": [
      "[0, 2, 4, 6, 8, 10, 12, 14, 16, 18, 20, 22, 24, 26, 28, 30, 32, 34, 36, 38, 40, 42, 44, 46, 48, 50, 52, 54, 56, 58, 60, 62, 64, 66, 68, 70, 72, 74, 76, 78, 80, 82, 84, 86, 88, 90, 92, 94, 96, 98, 100]\n"
     ]
    }
   ],
   "source": [
    "even_numbers=[]\n",
    "for num in range(0,101,2):\n",
    "    even_numbers.append(num)\n",
    "print(even_numbers)"
   ]
  },
  {
   "cell_type": "code",
   "execution_count": 23,
   "id": "1dbdfd49-9cde-4f40-b767-10677ff6aaec",
   "metadata": {
    "tags": []
   },
   "outputs": [
    {
     "name": "stdout",
     "output_type": "stream",
     "text": [
      "[1, 3, 5, 7, 9, 11, 13, 15, 17, 19, 21, 23, 25, 27, 29, 31, 33, 35, 37, 39, 41, 43, 45, 47, 49, 51, 53, 55, 57, 59, 61, 63, 65, 67, 69, 71, 73, 75, 77, 79, 81, 83, 85, 87, 89, 91, 93, 95, 97, 99]\n"
     ]
    }
   ],
   "source": [
    "odd_numbers=[]\n",
    "for num in range(1,101,2):\n",
    "    odd_numbers.append(num)\n",
    "print(odd_numbers)"
   ]
  },
  {
   "cell_type": "markdown",
   "id": "fe01e6b1-364d-48e5-bbdd-95d439f7460f",
   "metadata": {},
   "source": [
    "### Nested Loops"
   ]
  },
  {
   "cell_type": "code",
   "execution_count": 24,
   "id": "d6bd85ac-c2f9-452d-aeb7-fc10560629e6",
   "metadata": {
    "tags": []
   },
   "outputs": [
    {
     "name": "stdout",
     "output_type": "stream",
     "text": [
      "['Eugene', 'Kirui', 'Dominic', 'Lumumba']\n"
     ]
    }
   ],
   "source": [
    "print(student_names)"
   ]
  },
  {
   "cell_type": "code",
   "execution_count": 25,
   "id": "74e54858-ba1d-42d9-bce2-2284928998cb",
   "metadata": {
    "tags": []
   },
   "outputs": [
    {
     "name": "stdout",
     "output_type": "stream",
     "text": [
      "E\n",
      "u\n",
      "g\n",
      "e\n",
      "n\n",
      "e\n",
      "\n",
      "Eugene\n",
      "Kirui\n",
      "Dominic\n",
      "Lumumba\n"
     ]
    }
   ],
   "source": [
    "item_1=student_names[0]\n",
    "\n",
    "for letters in item_1:\n",
    "    print(letters)\n",
    "print()\n",
    "for students in student_names:\n",
    "    print(students)"
   ]
  },
  {
   "cell_type": "code",
   "execution_count": 29,
   "id": "3a1df4bb-56f7-4dde-b9e4-16dffca0ad53",
   "metadata": {
    "tags": []
   },
   "outputs": [
    {
     "name": "stdout",
     "output_type": "stream",
     "text": [
      "E\n",
      "u\n",
      "g\n",
      "e\n",
      "n\n",
      "e\n",
      "\n",
      "K\n",
      "i\n",
      "r\n",
      "u\n",
      "i\n",
      "\n",
      "D\n",
      "o\n",
      "m\n",
      "i\n",
      "n\n",
      "i\n",
      "c\n",
      "\n",
      "L\n",
      "u\n",
      "m\n",
      "u\n",
      "m\n",
      "b\n",
      "a\n",
      "\n"
     ]
    }
   ],
   "source": [
    "#nested loop - a loop within a loop i.e., the second loop is within the loop body of the first loop\n",
    "\n",
    "for student in student_names: #first loop\n",
    "    for letter in student: #second loop\n",
    "        print(letter)\n",
    "    print() #line break after every line"
   ]
  },
  {
   "cell_type": "markdown",
   "id": "db79a978-4301-4ef5-8812-42e92c277c03",
   "metadata": {
    "tags": []
   },
   "source": [
    "def greet_students(student_name):\n",
    "    message=(f\"Hello {student_name}, welcome to training!!\")\n",
    "    \n",
    "    return print(message)\n",
    "greet_students('Eugene')"
   ]
  },
  {
   "cell_type": "code",
   "execution_count": 46,
   "id": "c915bcaf-5d80-4e86-880b-b0cd50e093c8",
   "metadata": {
    "tags": []
   },
   "outputs": [
    {
     "name": "stdout",
     "output_type": "stream",
     "text": [
      "* \n",
      "* * \n",
      "* * * \n",
      "* * * * \n"
     ]
    }
   ],
   "source": [
    "#define the number of rows\n",
    "num_rows=4\n",
    "\n",
    "# outer loop for rows\n",
    "\n",
    "for i in range(num_rows):\n",
    "    #inner loop for printing asterics\n",
    "    for j in range(i+1):\n",
    "        print(\"*\", end=\" \")\n",
    "    #move to next line after each row is printed\n",
    "    print()\n",
    "\n"
   ]
  },
  {
   "cell_type": "code",
   "execution_count": 45,
   "id": "3646df80-ebe3-471c-9ddd-fb77b8686d44",
   "metadata": {
    "tags": []
   },
   "outputs": [
    {
     "name": "stdout",
     "output_type": "stream",
     "text": [
      "* * * * \n",
      "* * * \n",
      "* * \n",
      "* \n",
      "\n"
     ]
    }
   ],
   "source": [
    "for i in range(num_rows):\n",
    "    #inner loop for printing asterics\n",
    "    for j in range(i,4,1):\n",
    "        print(\"*\", end=\" \")\n",
    "    #move to next line after each row is printed\n",
    "    print()"
   ]
  },
  {
   "cell_type": "code",
   "execution_count": 14,
   "id": "01e1bdb4-cf3b-497b-8073-53b3a33d74d3",
   "metadata": {
    "tags": []
   },
   "outputs": [
    {
     "name": "stdout",
     "output_type": "stream",
     "text": [
      "Hello Eugene, welcome to training!!\n",
      "Hello Kirui, welcome to training!!\n",
      "Hello Dominic, welcome to training!!\n",
      "Hello Lumumba, welcome to training!!\n"
     ]
    }
   ],
   "source": [
    "student_names=[\"Eugene\", \"Kirui\", \"Dominic\", \"Lumumba\"]\n",
    "for name in student_names:\n",
    "    greet_students(name)\n",
    "    "
   ]
  },
  {
   "cell_type": "code",
   "execution_count": null,
   "id": "eec79732-002e-4fc2-8ff7-e53269e983e8",
   "metadata": {},
   "outputs": [],
   "source": []
  }
 ],
 "metadata": {
  "kernelspec": {
   "display_name": "Python 3 (ipykernel)",
   "language": "python",
   "name": "python3"
  },
  "language_info": {
   "codemirror_mode": {
    "name": "ipython",
    "version": 3
   },
   "file_extension": ".py",
   "mimetype": "text/x-python",
   "name": "python",
   "nbconvert_exporter": "python",
   "pygments_lexer": "ipython3",
   "version": "3.11.3"
  }
 },
 "nbformat": 4,
 "nbformat_minor": 5
}
