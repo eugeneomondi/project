{
 "cells": [
  {
   "cell_type": "markdown",
   "id": "23d181e4-94a0-4b43-bcae-a87d3a92310f",
   "metadata": {},
   "source": [
    "### Functions\n",
    "\n",
    "A function is a named block of code that are designed to do one specific job\n",
    "\n",
    "When you want to perform a particular task that you have defined in a function, you **call** the function responsible for it\n",
    "\n",
    "If you need to perform that task multiple times throughout your program, you do not need to type the code all over again; you just call the function dedicated to handling that task\n",
    "\n",
    "Using functions makes your program easier to write, read, test and fix."
   ]
  },
  {
   "cell_type": "code",
   "execution_count": 1,
   "id": "b9881c5d-4dfd-4188-8b6e-6a6f8419ede8",
   "metadata": {
    "tags": []
   },
   "outputs": [
    {
     "name": "stdout",
     "output_type": "stream",
     "text": [
      "The Zen of Python, by Tim Peters\n",
      "\n",
      "Beautiful is better than ugly.\n",
      "Explicit is better than implicit.\n",
      "Simple is better than complex.\n",
      "Complex is better than complicated.\n",
      "Flat is better than nested.\n",
      "Sparse is better than dense.\n",
      "Readability counts.\n",
      "Special cases aren't special enough to break the rules.\n",
      "Although practicality beats purity.\n",
      "Errors should never pass silently.\n",
      "Unless explicitly silenced.\n",
      "In the face of ambiguity, refuse the temptation to guess.\n",
      "There should be one-- and preferably only one --obvious way to do it.\n",
      "Although that way may not be obvious at first unless you're Dutch.\n",
      "Now is better than never.\n",
      "Although never is often better than *right* now.\n",
      "If the implementation is hard to explain, it's a bad idea.\n",
      "If the implementation is easy to explain, it may be a good idea.\n",
      "Namespaces are one honking great idea -- let's do more of those!\n"
     ]
    }
   ],
   "source": [
    "#zen of python\n",
    "\n",
    "import this"
   ]
  },
  {
   "cell_type": "markdown",
   "id": "1f84a3a8-9a74-4ae8-9a70-d38676bd68d6",
   "metadata": {},
   "source": [
    "### Types of Functions\n",
    "\n",
    "1. `User-defined functions` - Functions that we create\n",
    "\n",
    "2. `Built-in Functions`- Functions already defined in python libraries and we call them directly"
   ]
  },
  {
   "cell_type": "markdown",
   "id": "0d7b33fc-4e39-48b5-a5a0-9559ece1aaea",
   "metadata": {},
   "source": [
    "### Defining a Function"
   ]
  },
  {
   "cell_type": "code",
   "execution_count": 3,
   "id": "931e2730-e916-425b-89bf-4b68deac9b51",
   "metadata": {
    "tags": []
   },
   "outputs": [
    {
     "name": "stdout",
     "output_type": "stream",
     "text": [
      "Hello!\n"
     ]
    }
   ],
   "source": [
    "#example\n",
    "\n",
    "def greet_user():\n",
    "    \"\"\"Dispaly a simple greeting\"\"\"\n",
    "    print(\"Hello!\")\n",
    "    \n",
    "greet_user()"
   ]
  },
  {
   "cell_type": "markdown",
   "id": "f16a9b43-02d6-42fa-9038-49d98f241279",
   "metadata": {
    "tags": []
   },
   "source": [
    "'def greet_user():'\n",
    "using the keyword def to inform python that you are defining a function. This is **function** definition\n",
    "\n",
    "Function definition tells python the name of the function, in the example above, **greet_user**\n",
    "\n",
    "It also informs python, if applicable, what kind of information the finction needs to perform its tasks or job. It is passed into the function using '()'. In this case, the function need no information to perform its tasks hence empty brackets.\n",
    "\n",
    "Any indented lines that follow the ':' make up the bosy of the function\n",
    "\n",
    "'\"\"\" Display a simple greeting\"\"\"'\n",
    "\n",
    "Comment called docstring that describes what the function does\n",
    "If a single short one line, you use #\n",
    "\n",
    "`print(\"Hello World!\")`\n",
    "* Function body line(s) indented inside the function.\n",
    "* Contains set of instructions on the code to be executed.\n",
    "\n",
    "# comment \n",
    "\n",
    "\"\"\"Comment\"\"\"\n",
    "\n",
    "\"\"\"\n",
    "This is a multiple line comment\n",
    "The tripple double quotes \n",
    "Used to create multiple line comments\n",
    "\"\"\"\n",
    "\n",
    "greet_user()`\n",
    "* When you want to use a function, you call it. \n",
    "* A **function call** tells python to execute the indented code in the function body.\n",
    "* To call a function, write the function name, in our example, `greet_user`, followed by any necessary information in the `()`."
   ]
  },
  {
   "cell_type": "code",
   "execution_count": 5,
   "id": "63155036-9a3a-4ee8-a7ea-d4ef1c69b410",
   "metadata": {
    "tags": []
   },
   "outputs": [
    {
     "name": "stdout",
     "output_type": "stream",
     "text": [
      "7\n"
     ]
    }
   ],
   "source": [
    "#example 2\n",
    "\n",
    "def add_numbers(): #defining our function\n",
    "    #simple function to add numbers\n",
    "    a=2\n",
    "    b=5\n",
    "    sum=a+b\n",
    "    print(sum)\n",
    "    \n",
    "add_numbers() #calling our function"
   ]
  },
  {
   "cell_type": "markdown",
   "id": "897be035-0fe1-487e-a019-ca7855317c68",
   "metadata": {},
   "source": [
    "### passing information to a function\n",
    "\n",
    "* The function greet_user can only tell the user Hrllo! but not greet them by name"
   ]
  },
  {
   "cell_type": "code",
   "execution_count": 6,
   "id": "07c89c60-22db-4a1a-9046-ef55a6157ac5",
   "metadata": {
    "tags": []
   },
   "outputs": [
    {
     "name": "stdout",
     "output_type": "stream",
     "text": [
      " Hello Eugene!\n"
     ]
    }
   ],
   "source": [
    "def greet_user(username):\n",
    "    #display a simple greeting\n",
    "    \n",
    "    print(f\" Hello {username}!\")\n",
    "    \n",
    "greet_user('Eugene')"
   ]
  },
  {
   "cell_type": "markdown",
   "id": "4cb247c2-ffd4-4b90-a52a-447914f32bff",
   "metadata": {},
   "source": [
    "* By adding 'username' in our function definition, we are allowing the function to accept any value for *username*\n",
    "* Expectation: - provide a value for a *username* each time you call it"
   ]
  },
  {
   "cell_type": "code",
   "execution_count": 8,
   "id": "c9556eee-e10c-48f6-b016-909c3f511ceb",
   "metadata": {
    "tags": []
   },
   "outputs": [
    {
     "name": "stdout",
     "output_type": "stream",
     "text": [
      " Hello Ejay!\n"
     ]
    }
   ],
   "source": [
    "#second function call\n",
    "greet_user('Ejay') #changed the username value"
   ]
  },
  {
   "cell_type": "markdown",
   "id": "ee96d522-143f-418d-b6f0-3cd010c581c1",
   "metadata": {},
   "source": [
    "* `parameters` - in the example greet_user(username), *username* is the parameter.\n",
    "A piece of information the function needs to do its job/task.\n",
    "* `arguments` - the value *Antonny* and *Melly* are arguments.\n",
    "A piece of information that's passed from a function call to a function."
   ]
  },
  {
   "cell_type": "code",
   "execution_count": 9,
   "id": "66a3c4d9-ae47-40c9-9dbe-4ec012e2aeef",
   "metadata": {
    "tags": []
   },
   "outputs": [
    {
     "ename": "TypeError",
     "evalue": "greet_user() missing 1 required positional argument: 'username'",
     "output_type": "error",
     "traceback": [
      "\u001b[0;31m---------------------------------------------------------------------------\u001b[0m",
      "\u001b[0;31mTypeError\u001b[0m                                 Traceback (most recent call last)",
      "Cell \u001b[0;32mIn[9], line 3\u001b[0m\n\u001b[1;32m      1\u001b[0m \u001b[38;5;66;03m#third function call\u001b[39;00m\n\u001b[0;32m----> 3\u001b[0m greet_user()\n",
      "\u001b[0;31mTypeError\u001b[0m: greet_user() missing 1 required positional argument: 'username'"
     ]
    }
   ],
   "source": [
    "#third function call\n",
    "\n",
    "greet_user()"
   ]
  },
  {
   "cell_type": "markdown",
   "id": "08d7ba3a-1afc-41a5-b959-7e71fc18d378",
   "metadata": {},
   "source": [
    "* We must pass in arguments during function calls to avoid errors."
   ]
  },
  {
   "cell_type": "code",
   "execution_count": 12,
   "id": "106cc70f-f59b-4fd4-857a-364cea2a18d8",
   "metadata": {
    "tags": []
   },
   "outputs": [
    {
     "name": "stdout",
     "output_type": "stream",
     "text": [
      "I have a dog.\n",
      "My dog's name is Zagadat.\n"
     ]
    }
   ],
   "source": [
    "def describe_pet(animal_type, pet_name):\n",
    "    \"\"\" Display information about a pet\"\"\"\n",
    "    print(f\"I have a {animal_type}.\")\n",
    "    print(f\"My {animal_type}'s name is {pet_name}.\")\n",
    "    \n",
    "describe_pet(\"dog\", \"Zagadat\")"
   ]
  },
  {
   "cell_type": "markdown",
   "id": "6e1145e9-b22d-412a-b7dd-922a447f98c9",
   "metadata": {},
   "source": [
    "* When you call a function, Python must match each argument in the function call with a parameter in the function definition."
   ]
  },
  {
   "cell_type": "code",
   "execution_count": 13,
   "id": "0946e81e-4e5b-478e-b81e-5f90a8934be2",
   "metadata": {
    "tags": []
   },
   "outputs": [
    {
     "name": "stdout",
     "output_type": "stream",
     "text": [
      "I have a zagadat.\n",
      "My zagadat's name is dod.\n"
     ]
    }
   ],
   "source": [
    "#the  arguments match the order of the parameter\n",
    "describe_pet('zagadat', 'dod') #this is wrong"
   ]
  },
  {
   "cell_type": "code",
   "execution_count": 15,
   "id": "1809f409-3138-4909-838d-925a69ae9616",
   "metadata": {
    "tags": []
   },
   "outputs": [
    {
     "name": "stdout",
     "output_type": "stream",
     "text": [
      "I have a dog.\n",
      "My dog's name is zagadat.\n"
     ]
    }
   ],
   "source": [
    "#alternatively use keyword arguments\n",
    "\n",
    "describe_pet(pet_name='zagadat', animal_type='dog') #assign arguments to parameters"
   ]
  },
  {
   "cell_type": "code",
   "execution_count": 36,
   "id": "d439e28f-e0f0-4f68-b717-951d8a270fff",
   "metadata": {
    "tags": []
   },
   "outputs": [],
   "source": [
    "#default values\n",
    "\n",
    "def describe_pet(pet_name, animal_type='dog'):\n",
    "    \"\"\" display information about a pet \"\"\"\n",
    "    print(f\"I have a {animal_type}.\")\n",
    "    print(f\" My {animal_type}'s name is {pet_name}.\")"
   ]
  },
  {
   "cell_type": "markdown",
   "id": "bc1003ca-45ce-44dd-b2b4-8f50d58fd738",
   "metadata": {
    "tags": []
   },
   "source": [
    "* Defining a **default values** for the parameter `animal_type` and setting it as `Dog`."
   ]
  },
  {
   "cell_type": "code",
   "execution_count": 37,
   "id": "582a28b9-775b-4962-9180-afcab51dfc59",
   "metadata": {
    "tags": []
   },
   "outputs": [
    {
     "name": "stdout",
     "output_type": "stream",
     "text": [
      "I have a dog.\n",
      " My dog's name is scooby.\n"
     ]
    }
   ],
   "source": [
    "describe_pet('scooby')"
   ]
  },
  {
   "cell_type": "markdown",
   "id": "802d17ba-cbd2-4199-9b25-6b8c96982942",
   "metadata": {
    "tags": []
   },
   "source": [
    "If an argument is not provided in the function call, python uses the default value ie `Dog` in the example above."
   ]
  },
  {
   "cell_type": "code",
   "execution_count": 38,
   "id": "d82f98a3-c09e-479d-9791-a4b2bf926fd1",
   "metadata": {
    "tags": []
   },
   "outputs": [
    {
     "name": "stdout",
     "output_type": "stream",
     "text": [
      "I have a cat.\n",
      " My cat's name is scooby.\n"
     ]
    }
   ],
   "source": [
    "describe_pet('scooby', 'cat')"
   ]
  },
  {
   "cell_type": "markdown",
   "id": "d8cea038-c675-4c02-a434-ec897ce2c7dc",
   "metadata": {},
   "source": [
    "If an argument for a parameter is provided in the function call, python uses the argument value provided."
   ]
  },
  {
   "cell_type": "markdown",
   "id": "214a7965-5acd-45d9-84c6-c5938415c924",
   "metadata": {},
   "source": [
    "### Return Values\n",
    "\n",
    "* A function doesn't have to display its output directly"
   ]
  },
  {
   "cell_type": "code",
   "execution_count": 40,
   "id": "4e0e4423-c184-47be-94f8-36e599ee982c",
   "metadata": {
    "tags": []
   },
   "outputs": [],
   "source": [
    "# example\n",
    "\n",
    "def add_numbers(a,b):\n",
    "    \n",
    "    #sum two numbers\n",
    "    \n",
    "    sum= a + b\n",
    "    \n",
    "add_numbers(9,6)"
   ]
  },
  {
   "cell_type": "markdown",
   "id": "4cdb1367-e244-4ac6-a44d-6f1c127c2a5e",
   "metadata": {},
   "source": [
    "* Functions process data then return a value or set of values called \n",
    "**return values**"
   ]
  },
  {
   "cell_type": "code",
   "execution_count": 44,
   "id": "fd737697-ff13-4a3a-bad2-3dda204fcd95",
   "metadata": {
    "tags": []
   },
   "outputs": [
    {
     "data": {
      "text/plain": [
       "' 9 + 6= 15'"
      ]
     },
     "execution_count": 44,
     "metadata": {},
     "output_type": "execute_result"
    }
   ],
   "source": [
    "#modify the example above\n",
    "\n",
    "def add_numbers(a,b):\n",
    "    #sum the two numbers\n",
    "    \n",
    "    sum= a + b\n",
    "    \n",
    "    output = f\" {a} + {b}= {sum}\"\n",
    "    \n",
    "    return output\n",
    "\n",
    "add_numbers(9,6)"
   ]
  },
  {
   "cell_type": "code",
   "execution_count": 23,
   "id": "9ed18923-a27d-44e5-8db0-b3236b5dfdca",
   "metadata": {},
   "outputs": [
    {
     "data": {
      "text/plain": [
       "'9 / 8 = 1.125'"
      ]
     },
     "execution_count": 23,
     "metadata": {},
     "output_type": "execute_result"
    }
   ],
   "source": [
    "#example 2- simple calculator\n",
    "\n",
    "def calculator(a,b,operator):\n",
    "    \"\"\" simple arithmetic operations\"\"\"\n",
    "    if (operator == \"+\"):\n",
    "        sum=a + b\n",
    "        sum_out = f\"{a} + {b} = {sum}\"\n",
    "        return sum_out\n",
    "    elif (operator == \"-\"):\n",
    "        diff = a - b\n",
    "        diff_out = f\"{a} - {b} = {diff}\"\n",
    "        \n",
    "        return diff_out\n",
    "    elif (operator == \"*\"):\n",
    "        times = a* b\n",
    "        times_out = f\"{a} * {b} = {times}\"\n",
    "        return times_out\n",
    "    elif (operator == \"/\"):\n",
    "        division = a / b\n",
    "        divide_out = f\"{a} / {b} = {division}\"\n",
    "        return divide_out\n",
    "    else:\n",
    "        print (\"enter maths operators\")\n",
    "    \n",
    "calculator(9,8, \"/\")"
   ]
  },
  {
   "cell_type": "code",
   "execution_count": 34,
   "id": "79db5423-d8ea-400c-8716-9a002605a0e3",
   "metadata": {},
   "outputs": [
    {
     "data": {
      "text/plain": [
       "(17, 1, 72)"
      ]
     },
     "execution_count": 34,
     "metadata": {},
     "output_type": "execute_result"
    }
   ],
   "source": [
    "#return a set of values\n",
    "\n",
    "def alt_calculator (a,b):\n",
    "    \"\"\"Alternative Calculator\"\"\"\n",
    "    sum= a + b\n",
    "    diff= a - b\n",
    "    multiplication= a * b\n",
    "    division= a/b\n",
    "    \n",
    "    #return a set of values\n",
    "    return sum, diff, multiplication\n",
    "    \n",
    "alt_calculator (9,8)\n",
    "    "
   ]
  },
  {
   "cell_type": "code",
   "execution_count": 31,
   "id": "1f690a6b-2463-4f69-a8e9-287e7d4725f0",
   "metadata": {
    "tags": []
   },
   "outputs": [
    {
     "name": "stdout",
     "output_type": "stream",
     "text": [
      "<class 'tuple'>\n",
      "1\n"
     ]
    }
   ],
   "source": [
    "alt_calculator_output = alt_calculator(9,8)\n",
    "\n",
    "print (type(alt_calculator_output))\n",
    "\n",
    "#accessing individual values in return set of values\n",
    "#using the index\n",
    "difference = alt_calculator_output[1]\n",
    "\n",
    "print(difference)\n"
   ]
  },
  {
   "cell_type": "code",
   "execution_count": 44,
   "id": "f8835f5d-d74d-4148-8254-cb436a7e2ba2",
   "metadata": {
    "tags": []
   },
   "outputs": [
    {
     "data": {
      "text/plain": [
       "[1, 16, 36]"
      ]
     },
     "execution_count": 44,
     "metadata": {},
     "output_type": "execute_result"
    }
   ],
   "source": [
    "# sum of squares\n",
    "\n",
    "def sum_squares(numbers):\n",
    "    \"\"\"\n",
    "    parameters:\n",
    "        numbers - a list of numbers\n",
    "    return:\n",
    "        sum of the squares of the list numbers\n",
    "    \"\"\"\n",
    "    \n",
    "    #empty list to store square numbers\n",
    "    squared_numbers = []\n",
    "    for num in numbers:\n",
    "        square = num **2\n",
    "        # add the squared_value to the empty list\n",
    "        squared_numbers.append(square)\n",
    "    return squared_numbers\n",
    "sum_squares([1,4,6])"
   ]
  },
  {
   "cell_type": "markdown",
   "id": "9791e790-3782-475c-bba6-83e2b70e0def",
   "metadata": {},
   "source": [
    "### Built-in Functions\n",
    "\n",
    "* These are functions already built in python"
   ]
  },
  {
   "cell_type": "code",
   "execution_count": 45,
   "id": "c1acefbd-2931-4b0a-8c12-8c070c051dad",
   "metadata": {
    "tags": []
   },
   "outputs": [
    {
     "name": "stdout",
     "output_type": "stream",
     "text": [
      "Eugene\n"
     ]
    }
   ],
   "source": [
    "# example\n",
    "\n",
    "print(\"Eugene\")"
   ]
  },
  {
   "cell_type": "code",
   "execution_count": 48,
   "id": "10fb296f-c689-47dc-a36e-cc5bca426e46",
   "metadata": {
    "tags": []
   },
   "outputs": [
    {
     "name": "stdin",
     "output_type": "stream",
     "text": [
      "Enter your first name: \n",
      " Eugene\n"
     ]
    }
   ],
   "source": [
    "#input takes in user input\n",
    "\n",
    "first_name = input(\"Enter your first name: \\n\")"
   ]
  },
  {
   "cell_type": "code",
   "execution_count": 49,
   "id": "fff3fc90-0890-4934-b1a2-24bf22e26cb3",
   "metadata": {
    "tags": []
   },
   "outputs": [
    {
     "name": "stdin",
     "output_type": "stream",
     "text": [
      "Enter a number:  5\n"
     ]
    },
    {
     "name": "stdout",
     "output_type": "stream",
     "text": [
      "The number is Odd.\n"
     ]
    }
   ],
   "source": [
    "def even_or_odd(number):\n",
    "    if number % 2 == 0:\n",
    "        return \"Even\"\n",
    "    else:\n",
    "        return \"Odd\"\n",
    "\n",
    "\n",
    "num = int(input(\"Enter a number: \"))\n",
    "result = even_or_odd(num)\n",
    "print(f\"The number is {result}.\")"
   ]
  },
  {
   "cell_type": "code",
   "execution_count": 61,
   "id": "a144a3e1-db27-48c9-8717-85b90c2d824b",
   "metadata": {
    "tags": []
   },
   "outputs": [
    {
     "name": "stdin",
     "output_type": "stream",
     "text": [
      " Student Name e.g. John Doe \n",
      "  Eugene\n"
     ]
    },
    {
     "data": {
      "text/plain": [
       "'Eugene'"
      ]
     },
     "execution_count": 61,
     "metadata": {},
     "output_type": "execute_result"
    }
   ],
   "source": [
    "# Get student name\n",
    "\n",
    "def get_student_name():\n",
    "    student_name = input(\" Student Name e.g. John Doe \\n \")\n",
    "    return student_name\n",
    "get_student_name()"
   ]
  },
  {
   "cell_type": "code",
   "execution_count": 38,
   "id": "b6bfbf9d-2b9a-4f2b-9eba-b63ca1e81ff6",
   "metadata": {},
   "outputs": [
    {
     "name": "stdin",
     "output_type": "stream",
     "text": [
      "enter English score 70\n",
      "enter Kiswahili score 80\n",
      "enter Maths score 80\n",
      "enter Science score 70\n",
      "enter GHC score 90\n"
     ]
    },
    {
     "data": {
      "text/plain": [
       "[70, 80, 80, 70, 90]"
      ]
     },
     "execution_count": 38,
     "metadata": {},
     "output_type": "execute_result"
    }
   ],
   "source": [
    "#get student scores\n",
    "\n",
    "def get_scores():\n",
    "    \"\"\"get user input\"\"\"\n",
    "    student_score = []\n",
    "    subjects = [\"English\",\"Kiswahili\",\"Maths\",\"Science\",\"GHC\"]\n",
    "    for subject in subjects:\n",
    "        score = int(input (f\"enter {subject} score\"))\n",
    "        student_score.append(score)\n",
    "    return student_score\n",
    "get_scores()"
   ]
  },
  {
   "cell_type": "code",
   "execution_count": 63,
   "id": "317ed377-01d5-424a-a0e7-2cf177d71c44",
   "metadata": {},
   "outputs": [
    {
     "name": "stdin",
     "output_type": "stream",
     "text": [
      " Student Name e.g. John Doe \n",
      "  Eugene\n",
      "enter English score 80\n",
      "enter Kiswahili score 80\n",
      "enter Maths score 70\n",
      "enter Science score 75\n",
      "enter GHC score 90\n"
     ]
    },
    {
     "data": {
      "text/plain": [
       "('Eugene', [80, 80, 70, 75, 90], [' A ', ' A ', ' A ', ' A ', ' A '], 395)"
      ]
     },
     "execution_count": 63,
     "metadata": {},
     "output_type": "execute_result"
    }
   ],
   "source": [
    "def student_performance():\n",
    "    \"\"\"\n",
    "    Get student name\n",
    "    Grade student scores\n",
    "    Grade student scores\n",
    "    sum of student scores\n",
    "    return:\n",
    "        student name, student scores, student grade, student total\n",
    "    \"\"\"\n",
    "    student_name = get_student_name()\n",
    "    student_scores = get_scores()\n",
    "    student_grades = []\n",
    "    #loop through grades\n",
    "    for score in student_scores:\n",
    "        if (score>= 70) and (score <= 100):\n",
    "            grade =  \" A \"\n",
    "            student_grades.append(grade)\n",
    "        elif (score>= 60) and (score<=69):\n",
    "            grade = \" B \"\n",
    "            student_grades.append(grade)\n",
    "        elif (score>= 50) and (score<=59):\n",
    "            grade = \" C \"\n",
    "            student_grades.append(grade)\n",
    "        elif (score>= 49) and (score<=40):\n",
    "            grade = \" D \"\n",
    "            student_grades.append(grade)\n",
    "        elif (score<=39) and (score >=0):\n",
    "            grade = \" E \"\n",
    "            student_grades.append(grade)\n",
    "        else:\n",
    "            print (\"invalid grade\")\n",
    "            student_grades.append(None)\n",
    "    \n",
    "    total = sum(student_scores)\n",
    "    \n",
    "    return student_name, student_scores, student_grades, total\n",
    "\n",
    "student_performance()"
   ]
  },
  {
   "cell_type": "code",
   "execution_count": 78,
   "id": "f75a475d-6daa-4679-907e-11c514d3018f",
   "metadata": {},
   "outputs": [
    {
     "name": "stdin",
     "output_type": "stream",
     "text": [
      " Student Name e.g. John Doe \n",
      "  Eugene\n",
      "enter English score 80\n",
      "enter Kiswahili score 80\n",
      "enter Maths score 80\n",
      "enter Science score 80\n",
      "enter GHC score 80\n",
      " Student Name e.g. John Doe \n",
      "  Xhaka\n",
      "enter English score 80\n",
      "enter Kiswahili score 90\n",
      "enter Maths score 90\n",
      "enter Science score 80\n",
      "enter GHC score 80\n",
      " Student Name e.g. John Doe \n",
      "  Uzi\n",
      "enter English score 89\n",
      "enter Kiswahili score 90\n",
      "enter Maths score 70\n",
      "enter Science score 70\n",
      "enter GHC score 70\n"
     ]
    }
   ],
   "source": [
    "#oerformance for all studnets\n",
    "\n",
    "student_number = 0\n",
    "Class_performance = {\n",
    "    \"name\":[],\n",
    "    \"English\":[],\n",
    "    \"English_grade\":[],\n",
    "    \"Kiswahili\":[],\n",
    "    \"Kiswahili_grade\":[],\n",
    "    \"Maths\":[],\n",
    "    \"Maths_grade\":[],\n",
    "    \"Science\":[],\n",
    "    \"Science_grade\":[],\n",
    "    \"GHC\":[],\n",
    "    \"GHC_grade\":[],\n",
    "    \"total\":[]\n",
    "}\n",
    "while (student_number<=2):\n",
    "    individual_student = student_performance()\n",
    "    individual_student = list(individual_student)\n",
    "    Class_performance[\"name\"].append (individual_student[0])\n",
    "    Class_performance[\"English\"].append (individual_student[1][0])\n",
    "    Class_performance[\"English_grade\"].append (individual_student[2][0])\n",
    "    Class_performance[\"Kiswahili\"].append (individual_student[1][1])\n",
    "    Class_performance[\"Kiswahili_grade\"].append (individual_student[2][1])\n",
    "    Class_performance[\"Maths\"].append (individual_student[1][2])\n",
    "    Class_performance[\"Maths_grade\"].append (individual_student[2][2])\n",
    "    Class_performance[\"Science\"].append (individual_student[1][3])\n",
    "    Class_performance[\"Science_grade\"].append (individual_student[2][3])\n",
    "    Class_performance[\"GHC\"].append (individual_student[1][4])\n",
    "    Class_performance[\"GHC_grade\"].append (individual_student[2][4])\n",
    "    Class_performance[\"total\"].append (individual_student[3])\n",
    "    student_number +=1"
   ]
  },
  {
   "cell_type": "code",
   "execution_count": 79,
   "id": "94fbbc8e-4a11-420b-af20-f03f42e7ed57",
   "metadata": {},
   "outputs": [
    {
     "name": "stdout",
     "output_type": "stream",
     "text": [
      "{'name': ['Eugene', 'Xhaka', 'Uzi'], 'English': [80, 80, 89], 'English_grade': [' A ', ' A ', ' A '], 'Kiswahili': [80, 90, 90], 'Kiswahili_grade': [' A ', ' A ', ' A '], 'Maths': [80, 90, 70], 'Maths_grade': [' A ', ' A ', ' A '], 'Science': [80, 80, 70], 'Science_grade': [' A ', ' A ', ' A '], 'GHC': [80, 80, 70], 'GHC_grade': [' A ', ' A ', ' A '], 'total': [400, 420, 389]}\n"
     ]
    }
   ],
   "source": [
    "print(Class_performance)"
   ]
  },
  {
   "cell_type": "code",
   "execution_count": 83,
   "id": "36bb8bb0-4de3-433c-a9ff-6be8eef0789c",
   "metadata": {
    "tags": []
   },
   "outputs": [
    {
     "data": {
      "text/html": [
       "<div>\n",
       "<style scoped>\n",
       "    .dataframe tbody tr th:only-of-type {\n",
       "        vertical-align: middle;\n",
       "    }\n",
       "\n",
       "    .dataframe tbody tr th {\n",
       "        vertical-align: top;\n",
       "    }\n",
       "\n",
       "    .dataframe thead th {\n",
       "        text-align: right;\n",
       "    }\n",
       "</style>\n",
       "<table border=\"1\" class=\"dataframe\">\n",
       "  <thead>\n",
       "    <tr style=\"text-align: right;\">\n",
       "      <th></th>\n",
       "      <th>name</th>\n",
       "      <th>English</th>\n",
       "      <th>English_grade</th>\n",
       "      <th>Kiswahili</th>\n",
       "      <th>Kiswahili_grade</th>\n",
       "      <th>Maths</th>\n",
       "      <th>Maths_grade</th>\n",
       "      <th>Science</th>\n",
       "      <th>Science_grade</th>\n",
       "      <th>GHC</th>\n",
       "      <th>GHC_grade</th>\n",
       "      <th>total</th>\n",
       "    </tr>\n",
       "  </thead>\n",
       "  <tbody>\n",
       "    <tr>\n",
       "      <th>0</th>\n",
       "      <td>Eugene</td>\n",
       "      <td>80</td>\n",
       "      <td>A</td>\n",
       "      <td>80</td>\n",
       "      <td>A</td>\n",
       "      <td>80</td>\n",
       "      <td>A</td>\n",
       "      <td>80</td>\n",
       "      <td>A</td>\n",
       "      <td>80</td>\n",
       "      <td>A</td>\n",
       "      <td>400</td>\n",
       "    </tr>\n",
       "    <tr>\n",
       "      <th>1</th>\n",
       "      <td>Xhaka</td>\n",
       "      <td>80</td>\n",
       "      <td>A</td>\n",
       "      <td>90</td>\n",
       "      <td>A</td>\n",
       "      <td>90</td>\n",
       "      <td>A</td>\n",
       "      <td>80</td>\n",
       "      <td>A</td>\n",
       "      <td>80</td>\n",
       "      <td>A</td>\n",
       "      <td>420</td>\n",
       "    </tr>\n",
       "    <tr>\n",
       "      <th>2</th>\n",
       "      <td>Uzi</td>\n",
       "      <td>89</td>\n",
       "      <td>A</td>\n",
       "      <td>90</td>\n",
       "      <td>A</td>\n",
       "      <td>70</td>\n",
       "      <td>A</td>\n",
       "      <td>70</td>\n",
       "      <td>A</td>\n",
       "      <td>70</td>\n",
       "      <td>A</td>\n",
       "      <td>389</td>\n",
       "    </tr>\n",
       "  </tbody>\n",
       "</table>\n",
       "</div>"
      ],
      "text/plain": [
       "     name  English English_grade  Kiswahili Kiswahili_grade  Maths  \\\n",
       "0  Eugene       80            A          80              A      80   \n",
       "1   Xhaka       80            A          90              A      90   \n",
       "2     Uzi       89            A          90              A      70   \n",
       "\n",
       "  Maths_grade  Science Science_grade  GHC GHC_grade  total  \n",
       "0          A        80            A    80        A     400  \n",
       "1          A        80            A    80        A     420  \n",
       "2          A        70            A    70        A     389  "
      ]
     },
     "execution_count": 83,
     "metadata": {},
     "output_type": "execute_result"
    }
   ],
   "source": [
    "import pandas as pd\n",
    "df = pd.DataFrame(Class_performance)\n",
    "df"
   ]
  },
  {
   "cell_type": "code",
   "execution_count": 64,
   "id": "52702dc7-2d64-491b-be54-f227359ac278",
   "metadata": {},
   "outputs": [
    {
     "name": "stdout",
     "output_type": "stream",
     "text": [
      "{'name': 'Eugene'}\n"
     ]
    }
   ],
   "source": [
    "#how tClass_performanceadd key value pair in a dictionary\n",
    "Class_performance = {}\n",
    "Class_performance[\"name\"] = \"Eugene\"\n",
    "print(Class_performance)"
   ]
  },
  {
   "cell_type": "code",
   "execution_count": null,
   "id": "0cfb59ad-0374-4539-82cd-8d28c9394f03",
   "metadata": {},
   "outputs": [],
   "source": []
  }
 ],
 "metadata": {
  "kernelspec": {
   "display_name": "Python 3 (ipykernel)",
   "language": "python",
   "name": "python3"
  },
  "language_info": {
   "codemirror_mode": {
    "name": "ipython",
    "version": 3
   },
   "file_extension": ".py",
   "mimetype": "text/x-python",
   "name": "python",
   "nbconvert_exporter": "python",
   "pygments_lexer": "ipython3",
   "version": "3.11.3"
  }
 },
 "nbformat": 4,
 "nbformat_minor": 5
}
