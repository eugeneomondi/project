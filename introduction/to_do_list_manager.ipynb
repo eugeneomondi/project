{
 "cells": [
  {
   "cell_type": "code",
   "execution_count": 36,
   "id": "54588bfb-8f10-4619-8068-c3b7d7c4bafd",
   "metadata": {},
   "outputs": [
    {
     "name": "stdout",
     "output_type": "stream",
     "text": [
      "To-Do List Manager\n",
      "\n",
      "1: Enter add_task to add new To-Do. \n",
      "2: Enter mark_task to complete. \n",
      "3: Enter list_tasks to list. \n",
      "4: Enter remove_task to remove. \n",
      "5: Enter quit_todo_list to exit\n"
     ]
    },
    {
     "name": "stdin",
     "output_type": "stream",
     "text": [
      "\n",
      " What do you want to do? (add_task, mark_tasks, list_tasks, remove_task, quit_todo_list) :  run\n"
     ]
    },
    {
     "name": "stdout",
     "output_type": "stream",
     "text": [
      "Please enter a task to continue.\n"
     ]
    },
    {
     "name": "stdin",
     "output_type": "stream",
     "text": [
      "\n",
      " What do you want to do? (add_task, mark_tasks, list_tasks, remove_task, quit_todo_list) :  add_task\n",
      "\n",
      " Please enter your new To-Do:  run\n"
     ]
    },
    {
     "name": "stdout",
     "output_type": "stream",
     "text": [
      "\n",
      " Your current To-Do is run.\n"
     ]
    },
    {
     "name": "stdin",
     "output_type": "stream",
     "text": [
      "\n",
      " What do you want to do? (add_task, mark_tasks, list_tasks, remove_task, quit_todo_list) :  add_task\n",
      "\n",
      " Please enter your new To-Do:  eat\n"
     ]
    },
    {
     "name": "stdout",
     "output_type": "stream",
     "text": [
      "\n",
      " Your current To-Do is eat.\n"
     ]
    },
    {
     "name": "stdin",
     "output_type": "stream",
     "text": [
      "\n",
      " What do you want to do? (add_task, mark_tasks, list_tasks, remove_task, quit_todo_list) :  add_task\n",
      "\n",
      " Please enter your new To-Do:  rest\n"
     ]
    },
    {
     "name": "stdout",
     "output_type": "stream",
     "text": [
      "\n",
      " Your current To-Do is rest.\n"
     ]
    },
    {
     "name": "stdin",
     "output_type": "stream",
     "text": [
      "\n",
      " What do you want to do? (add_task, mark_tasks, list_tasks, remove_task, quit_todo_list) :  add_task\n",
      "\n",
      " Please enter your new To-Do:  code\n"
     ]
    },
    {
     "name": "stdout",
     "output_type": "stream",
     "text": [
      "\n",
      " Your current To-Do is code.\n"
     ]
    },
    {
     "name": "stdin",
     "output_type": "stream",
     "text": [
      "\n",
      " What do you want to do? (add_task, mark_tasks, list_tasks, remove_task, quit_todo_list) :  mark_task\n"
     ]
    },
    {
     "name": "stdout",
     "output_type": "stream",
     "text": [
      "Please enter a task to continue.\n"
     ]
    },
    {
     "name": "stdin",
     "output_type": "stream",
     "text": [
      "\n",
      " What do you want to do? (add_task, mark_tasks, list_tasks, remove_task, quit_todo_list) :  mark_tasks\n",
      "\n",
      " Please enter name of task completed. run\n",
      "Do you want to update run as complete?:  yes\n",
      "run in the to-do list is complete \n"
     ]
    },
    {
     "name": "stdout",
     "output_type": "stream",
     "text": [
      "Your updated to-do list\n",
      "\n",
      "eat\n",
      "rest\n",
      "code\n"
     ]
    },
    {
     "name": "stdin",
     "output_type": "stream",
     "text": [
      "\n",
      " What do you want to do? (add_task, mark_tasks, list_tasks, remove_task, quit_todo_list) :  list_tasks\n"
     ]
    },
    {
     "name": "stdout",
     "output_type": "stream",
     "text": [
      "\n",
      "eat\n",
      "rest\n",
      "code\n"
     ]
    },
    {
     "name": "stdin",
     "output_type": "stream",
     "text": [
      "\n",
      " What do you want to do? (add_task, mark_tasks, list_tasks, remove_task, quit_todo_list) :  remove_task\n",
      "\n",
      " Please enter name of task to remove. rest\n",
      "Are you sure you want to remove rest?:  yes\n"
     ]
    },
    {
     "name": "stdout",
     "output_type": "stream",
     "text": [
      "Your updated tasks\n",
      "\n",
      "eat\n",
      "code\n"
     ]
    },
    {
     "name": "stdin",
     "output_type": "stream",
     "text": [
      "\n",
      " What do you want to do? (add_task, mark_tasks, list_tasks, remove_task, quit_todo_list) :  quit_todo_list\n",
      "\n",
      " Are you sure you want to Quit?:  yes\n"
     ]
    }
   ],
   "source": [
    "#TO DO LIST\n",
    "\n",
    "print (\"To-Do List Manager\")\n",
    "\n",
    "instruction = \"\\n1: Enter add_task to add new To-Do. \\n2: Enter mark_task to complete. \\n3: Enter list_tasks to list. \\n4: Enter remove_task to remove. \\n5: Enter quit_todo_list to exit\"\n",
    "print(instruction)\n",
    "\n",
    "#add to do information\n",
    "\n",
    "\n",
    "task_list=[]\n",
    "\n",
    "def to_do_list():\n",
    "    for task in task_list:\n",
    "        print(task)\n",
    "    return task\n",
    "        \n",
    "    \n",
    "\n",
    "running= True\n",
    "while running:\n",
    "    #user input\n",
    "    user_input=input(\"\\n What do you want to do? (add_task, mark_tasks, list_tasks, remove_task, quit_todo_list) : \")\n",
    "    if user_input == \"add_task\":\n",
    "        new_task= input(\"\\n Please enter your new To-Do: \")\n",
    "        print(f\"\\n Your current To-Do is {new_task}.\")\n",
    "        #append to the task_list\n",
    "        task_list.append(new_task)\n",
    "   \n",
    "    #code of updating tasks as complete\n",
    "    elif user_input == \"mark_tasks\":\n",
    "        while True:\n",
    "            item_name = input(\"\\n Please enter name of task completed.\")\n",
    "            try:\n",
    "                if item_name in task_list:\n",
    "                    choice = input(f\"Do you want to update {item_name} as complete?: \")\n",
    "                    if choice == \"yes\":\n",
    "                        update_list = (f\"{item_name} in the to-do list is complete\")\n",
    "                        index = task_list.index(item_name)\n",
    "                        task_list[index] = update_list\n",
    "                        print(\"Your updated to-do list\")\n",
    "                        to_do_list()\n",
    "                        break\n",
    "                else:\n",
    "                    print(\"item not found\")\n",
    "            except Exception:\n",
    "                print(\"not valid\")\n",
    "    #listing tasks added to the to do list code\n",
    "    elif user_input == \"list_tasks\":\n",
    "        for task in task_list:\n",
    "            print(task)\n",
    "            \n",
    "    #code to delete task\n",
    "    elif user_input == \"remove_task\":\n",
    "        while True:\n",
    "            item_name = input(\"\\n Please enter name of task to remove.\")\n",
    "            try:\n",
    "                if item_name in task_list:\n",
    "                    choice =  input(f\"Are you sure you want to remove {item_name}?: \")\n",
    "                    if choice == \"yes\":\n",
    "                        task_list.remove(item_name)\n",
    "                        print(\"Your updated tasks\")\n",
    "                        to_do_list()\n",
    "                        break\n",
    "                else:\n",
    "                    print(\"item not found\")\n",
    "            #except block here\n",
    "            except Exception:\n",
    "                print (\"not valid\") \n",
    "    \n",
    "    #code to quit to do list\n",
    "    elif user_input == \"quit_todo_list\":\n",
    "        ask_user = input(\"\\n Are you sure you want to Quit?: \")\n",
    "        if ask_user == \"yes\":\n",
    "            running = False\n",
    "            \n",
    "    elif user_input == \"\" or user_input == \" \":\n",
    "        print(\"please enter task.\")\n",
    "    else:\n",
    "        print(\"Please enter a task to continue.\")\n",
    "            \n",
    "    "
   ]
  },
  {
   "cell_type": "code",
   "execution_count": null,
   "id": "4118726e-ad1a-48bb-a3a8-8b93804f139a",
   "metadata": {},
   "outputs": [],
   "source": []
  }
 ],
 "metadata": {
  "kernelspec": {
   "display_name": "Python 3 (ipykernel)",
   "language": "python",
   "name": "python3"
  },
  "language_info": {
   "codemirror_mode": {
    "name": "ipython",
    "version": 3
   },
   "file_extension": ".py",
   "mimetype": "text/x-python",
   "name": "python",
   "nbconvert_exporter": "python",
   "pygments_lexer": "ipython3",
   "version": "3.11.3"
  }
 },
 "nbformat": 4,
 "nbformat_minor": 5
}
