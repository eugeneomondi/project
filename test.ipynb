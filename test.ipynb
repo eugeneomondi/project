{
 "cells": [
  {
   "cell_type": "code",
   "execution_count": 1,
   "id": "a06073f2-c83a-4b94-98da-336fae5936d6",
   "metadata": {
    "tags": []
   },
   "outputs": [
    {
     "name": "stdout",
     "output_type": "stream",
     "text": [
      "mt name is Eugene\n"
     ]
    }
   ],
   "source": [
    "print(\"mt name is Eugene\")"
   ]
  },
  {
   "cell_type": "code",
   "execution_count": 2,
   "id": "33b2dc92-d44b-42c9-9750-25a70ad9f5c0",
   "metadata": {
    "tags": []
   },
   "outputs": [
    {
     "ename": "SyntaxError",
     "evalue": "incomplete input (4124838356.py, line 2)",
     "output_type": "error",
     "traceback": [
      "\u001b[0;36m  Cell \u001b[0;32mIn[2], line 2\u001b[0;36m\u001b[0m\n\u001b[0;31m    print('my name is Eugene'\u001b[0m\n\u001b[0m                             ^\u001b[0m\n\u001b[0;31mSyntaxError\u001b[0m\u001b[0;31m:\u001b[0m incomplete input\n"
     ]
    }
   ],
   "source": [
    "#Names\n",
    "print('my name is Eugene'"
   ]
  },
  {
   "cell_type": "code",
   "execution_count": 3,
   "id": "ddd1acb4-487b-4ccd-ab43-fb32246eb7e0",
   "metadata": {
    "tags": []
   },
   "outputs": [
    {
     "name": "stdout",
     "output_type": "stream",
     "text": [
      "my name is Eugene\n"
     ]
    }
   ],
   "source": [
    "print(\"my name is Eugene\")"
   ]
  },
  {
   "cell_type": "code",
   "execution_count": 4,
   "id": "8f1da5ca-bcd5-433a-bf77-82a8a094fa16",
   "metadata": {},
   "outputs": [
    {
     "name": "stdin",
     "output_type": "stream",
     "text": [
      "What is your name?  Eugene\n"
     ]
    },
    {
     "name": "stdout",
     "output_type": "stream",
     "text": [
      "Hello Eugene\n"
     ]
    }
   ],
   "source": [
    "name = input (\"What is your name? \")\n",
    "print(\"Hello \" + name)"
   ]
  },
  {
   "cell_type": "code",
   "execution_count": 10,
   "id": "6c0cf492-1d80-4347-bb00-e3567fb03898",
   "metadata": {
    "tags": []
   },
   "outputs": [
    {
     "name": "stdout",
     "output_type": "stream",
     "text": [
      "John Smithagenew_patient\n"
     ]
    }
   ],
   "source": [
    "first_name = \"John Smith\"\n",
    "age = 20\n",
    "new_patient= True\n",
    "print(first_name + \"age\" + \"new_patient\")"
   ]
  },
  {
   "cell_type": "code",
   "execution_count": 28,
   "id": "daa4192a-4f5c-4bf6-b001-c08b4d7f233d",
   "metadata": {
    "tags": []
   },
   "outputs": [
    {
     "name": "stdin",
     "output_type": "stream",
     "text": [
      "What is your name?  Eugene\n"
     ]
    },
    {
     "name": "stdout",
     "output_type": "stream",
     "text": [
      "Hello Eugene\n"
     ]
    },
    {
     "name": "stdin",
     "output_type": "stream",
     "text": [
      "Enter your birth year:  1995\n"
     ]
    },
    {
     "name": "stdout",
     "output_type": "stream",
     "text": [
      "28\n"
     ]
    }
   ],
   "source": [
    "name= input(\"What is your name? \")\n",
    "print(\"Hello \" + name)\n",
    "birth_year= input(\"Enter your birth year: \")\n",
    "age= 2023 - int(birth_year)\n",
    "print(age)"
   ]
  },
  {
   "cell_type": "code",
   "execution_count": 52,
   "id": "289cb444-2ef9-4cc3-824a-f7bc0a951925",
   "metadata": {
    "tags": []
   },
   "outputs": [
    {
     "name": "stdin",
     "output_type": "stream",
     "text": [
      "first:  10\n",
      "second:  20\n"
     ]
    },
    {
     "name": "stdout",
     "output_type": "stream",
     "text": [
      "sum: 30.0\n"
     ]
    }
   ],
   "source": [
    "first=float(input (\"first: \"))\n",
    "second=float(input (\"second: \"))\n",
    "sum= (first) + (second)\n",
    "print(\"sum: \" + str(sum))"
   ]
  },
  {
   "cell_type": "code",
   "execution_count": 56,
   "id": "39726e47-539a-4046-b091-fc0a63010c16",
   "metadata": {
    "tags": []
   },
   "outputs": [
    {
     "name": "stdout",
     "output_type": "stream",
     "text": [
      "CASELOAD STATISTICS\n",
      "caseload statistics\n",
      "Case Statistics\n"
     ]
    }
   ],
   "source": [
    "course=\"Caseload Statistics\"\n",
    "print(course.upper())\n",
    "print(course.lower())\n",
    "print(course.replace(\"Caseload\",\"Case\"))"
   ]
  },
  {
   "cell_type": "code",
   "execution_count": 104,
   "id": "eed3f00f-bc46-4b96-a031-bd8b5a9c1a89",
   "metadata": {
    "tags": []
   },
   "outputs": [
    {
     "name": "stdout",
     "output_type": "stream",
     "text": [
      "it's a hot day\n"
     ]
    }
   ],
   "source": [
    "temperature=30\n",
    "if temperature>=30:\n",
    "    print(\"it's a hot day\")\n",
    "elif temperature>=10 and temperature<=29:\n",
    "    print(\"it's a cold day\")\n",
    "elif temperature<=10 and temperature>=1:\n",
    "      print (\"it's extremely cold\")\n",
    "else:\n",
    "    print(\"it's snowing\")\n",
    "  "
   ]
  },
  {
   "cell_type": "code",
   "execution_count": null,
   "id": "53458d52-a8ee-4eb9-9a37-02c60c05c221",
   "metadata": {},
   "outputs": [],
   "source": []
  },
  {
   "cell_type": "code",
   "execution_count": null,
   "id": "03dbd290-2591-4484-bd21-3dae411b40cc",
   "metadata": {},
   "outputs": [],
   "source": []
  }
 ],
 "metadata": {
  "kernelspec": {
   "display_name": "Python 3 (ipykernel)",
   "language": "python",
   "name": "python3"
  },
  "language_info": {
   "codemirror_mode": {
    "name": "ipython",
    "version": 3
   },
   "file_extension": ".py",
   "mimetype": "text/x-python",
   "name": "python",
   "nbconvert_exporter": "python",
   "pygments_lexer": "ipython3",
   "version": "3.11.3"
  }
 },
 "nbformat": 4,
 "nbformat_minor": 5
}
